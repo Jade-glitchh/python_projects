{
 "cells": [
  {
   "cell_type": "code",
   "execution_count": null,
   "id": "b80bfb7a",
   "metadata": {},
   "outputs": [],
   "source": [
    "theBoard = {'0': ' ', '1': ' ', '2': ' ',\n",
    "            '3': ' ', '4': ' ', '5': ' ',\n",
    "            '6': ' ', '7': ' ', '8': ' '}\n",
    "def printBoard(board):\n",
    "     print(board['0'] + '|' + board['1'] + '|' + board['2'])\n",
    "     print('-+-+-')\n",
    "     print(board['3'] + '|' + board['4'] + '|' + board['5'])\n",
    "     print('-+-+-')\n",
    "     print(board['6'] + '|' + board['7'] + '|' + board['8'])\n",
    "\n",
    "turn = 'X'\n",
    "winner = None\n",
    "gameRunning = True\n",
    "for i in range(9):\n",
    "    printBoard(theBoard)\n",
    "    print('Turn for ' + turn + '. Move on which space?')\n",
    "    move = input().strip().lower()\n",
    "    if theBoard[move] == ' ':\n",
    "        theBoard[move] = turn\n",
    "        if turn == 'X':\n",
    "            turn = 'O'\n",
    "        else:\n",
    "            turn = 'X'\n",
    "    else:\n",
    "        print('Oops player is already in that spot!')\n",
    "        i -= 1\n",
    "        continue\n",
    "printBoard(theBoard)\n",
    "if winner:\n",
    "    print(f\"player {winner} wins!\")\n",
    "else:\n",
    "    print(\"It's a draw\")\n",
    "\n",
    "\n"
   ]
  }
 ],
 "metadata": {
  "kernelspec": {
   "display_name": "Python 3",
   "language": "python",
   "name": "python3"
  },
  "language_info": {
   "codemirror_mode": {
    "name": "ipython",
    "version": 3
   },
   "file_extension": ".py",
   "mimetype": "text/x-python",
   "name": "python",
   "nbconvert_exporter": "python",
   "pygments_lexer": "ipython3",
   "version": "3.13.1"
  }
 },
 "nbformat": 4,
 "nbformat_minor": 5
}
