{
 "cells": [
  {
   "cell_type": "markdown",
   "id": "44c11bea",
   "metadata": {},
   "source": [
    "Birthday Dictionaries\n",
    "\n",
    "Part 1: In this part, we will keep track of when our friend’s birthdays are, and be able to find that information based on their name.  "
   ]
  },
  {
   "cell_type": "code",
   "execution_count": null,
   "id": "75b5e88a",
   "metadata": {},
   "outputs": [
    {
     "name": "stdout",
     "output_type": "stream",
     "text": [
      "Welcome to the birthday dictionary. We know the birthdays of:\n",
      "Wisdom\n",
      "Zainab\n",
      "Deb\n",
      "Mom\n",
      "Jade\n",
      "Who's birthday do you want to look up?\n",
      "Jan 14 is the birthday of Jade\n"
     ]
    }
   ],
   "source": [
    "birthdays = {'Wisdom': 'Oct 16', 'Zainab': 'Feb 22', 'Deb': 'Oct 10', 'Mom': 'Jan 10', 'Jade': 'Jan 14'}\n",
    "while True:\n",
    "   print('Welcome to the birthday dictionary. We know the birthdays of:')\n",
    "   for name in birthdays:\n",
    "        print(name)\n",
    "\n",
    "   print('Who\\'s birthday do you want to look up?')\n",
    "   name = input()\n",
    "    \n",
    "   if name in birthdays:\n",
    "       print(birthdays[name] + ' is the birthday of ' + name)\n",
    "       break\n",
    "   else:\n",
    "       print('I do not have birthday information for ' + name)"
   ]
  },
  {
   "cell_type": "markdown",
   "id": "9fbb327b",
   "metadata": {},
   "source": [
    "Birthday Json\n",
    "\n",
    "Part 2:In this part, load the birthday dictionary from a JSON file on disk, rather than having the dictionary defined in the program."
   ]
  },
  {
   "cell_type": "code",
   "execution_count": null,
   "id": "dd06cbb2",
   "metadata": {},
   "outputs": [],
   "source": [
    "import json \n",
    "\n",
    "\n",
    "birthdays = {}\n",
    "with open(\"Fav_birthday.json\", 'r') as f:\n",
    "   birthday = json.load(f)\n",
    "\n",
    "def add_entry():\n",
    "   name = input('who do you want to add to the birthday dictionary?/n')\n",
    "   date = input('when is {} born?/n'. format(name))\n",
    "   birthday[name] = date\n",
    "   with open('birthdays.json', 'w') as f:\n",
    "      json.dump(birthday,f)\n",
    "   print('{} was added to my birthday list\\n'.format(name))\n",
    "\n",
    "def find_date():\n",
    "   name =input(\"who's birthday do you want to know?\\n\").title()\n",
    "   try:\n",
    "      if birthday[name]:\n",
    "            print('{} is born on {}\\n'.format(name, birthday[name]))\n",
    "   except KeyError:\n",
    "        print('{} is not in the list\\n'.format(name))\n",
    "\n",
    "def list_entries():\n",
    "    print('The current entries in my birthday list are:\\n============================================')\n",
    "    for key in birthday:\n",
    "        print(key.ljust(31), ':', birthday[key])\n",
    "    print()\n",
    "\n",
    "while True:\n",
    "    what_next = input('What do you want to do next? you can: Add, Find, List, Quit\\n').capitalize()\n",
    "    if what_next == 'Quit':\n",
    "        print('Good Bye')\n",
    "        raise SystemExit(0)\n",
    "    elif what_next == 'Add':\n",
    "        add_entry()\n",
    "    elif what_next == 'Find':\n",
    "        find_date()\n",
    "    elif what_next == 'List':\n",
    "        list_entries()\n"
   ]
  },
  {
   "cell_type": "markdown",
   "id": "94c6a15d",
   "metadata": {},
   "source": [
    "Birthday Months\n",
    "\n",
    "Part 3: In this part, load that JSON file from disk, extract the months of all the birthdays, and count how many scientists have a birthday in each month."
   ]
  },
  {
   "cell_type": "code",
   "execution_count": null,
   "id": "4093856b",
   "metadata": {},
   "outputs": [
    {
     "name": "stdout",
     "output_type": "stream",
     "text": [
      "Counter({'Oct': 2, 'Jan': 2, 'Feb': 1})\n"
     ]
    }
   ],
   "source": [
    "import json\n",
    "from collections import Counter\n",
    "\n",
    "with open(\"Fav_birthday.json\", 'r') as f:\n",
    "    birthdays = json.load(f)\n",
    "\n",
    "\n",
    "\n",
    "months = []\n",
    "for name, birthday_string in birthdays.items():\n",
    "\tmonth = birthday_string.split(' ')[0]\n",
    "\tmonths.append(month)\n",
    "\n",
    "print(Counter(months))"
   ]
  },
  {
   "cell_type": "markdown",
   "id": "4162debe",
   "metadata": {},
   "source": [
    "Birthday Plots \n",
    "Part 4: In this part, use the bokeh Python library to plot a histogram of which months the people have birthdays in!"
   ]
  },
  {
   "cell_type": "code",
   "execution_count": 7,
   "id": "f8378d53",
   "metadata": {},
   "outputs": [],
   "source": [
    "from bokeh.plotting import figure, show, output_file\n",
    "\n",
    "output_file(\"plot.html\")\n",
    "\n",
    "x_categories = [\"Jan\", \"Feb\", \"Mar\", \"Apr\", \"Jun\", \"Jul\", \"Aug\", \"Sep\", \"Oct\", \"Nov\", \"Dec\"]\n",
    "x = [\"Oct\", \"Jan\", \"Feb\"]\n",
    "y = [2, 2, 1]\n",
    "\n",
    "p = figure(x_range= x_categories)\n",
    "p.vbar(x=x, top=y, width=0.5)\n",
    "\n",
    "show(p)"
   ]
  }
 ],
 "metadata": {
  "kernelspec": {
   "display_name": "Python 3",
   "language": "python",
   "name": "python3"
  },
  "language_info": {
   "codemirror_mode": {
    "name": "ipython",
    "version": 3
   },
   "file_extension": ".py",
   "mimetype": "text/x-python",
   "name": "python",
   "nbconvert_exporter": "python",
   "pygments_lexer": "ipython3",
   "version": "3.13.1"
  }
 },
 "nbformat": 4,
 "nbformat_minor": 5
}
